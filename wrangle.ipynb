{
 "cells": [
  {
   "cell_type": "markdown",
   "id": "11ed8833",
   "metadata": {},
   "source": [
    "# Wrangle Exercises\n",
    "---\n",
    "## Exercises I\n",
    "Let's review the steps we take at the beginning of each new module.\n",
    "\n",
    "1. Create a new repository named `regression-exercises` in your GitHub; all of your Regression work will be housed here.\n",
    "2. Clone this repository within your local `codeup-data-science` directory.\n",
    "3. Create a `.gitignore` and make sure your list of 'files to ignore' includes your `env.py` file.\n",
    "4. Ceate a `README.md` file that outlines the contents and purpose of your repository.\n",
    "5. Add, commit, and push these two files.\n",
    "6. Now you can add your `env.py` file to this repository to access the Codeup database server.\n",
    "7. For these exercises, you will create `wrangle.ipynb` and `wrangle.py` files to hold necessary functions.\n",
    "8. As always, add, commit, and push your work often.\n",
    "---\n",
    "## Exercises II\n",
    "Let's set up an example scenario as perspective for our regression exercises using the Zillow dataset.\n",
    "\n",
    "As a Codeup data science graduate, you want to show off your skills to the Zillow data science team in hopes of getting an interview for a position you saw pop up on LinkedIn. You thought it might look impressive to build an end-to-end project in which you use some of their Kaggle data to predict property values using some of their available features; who knows, you might even do some feature engineering to blow them away. Your goal is to predict the values of single unit properties using the obervations from 2017.\n",
    "\n",
    "In these exercises, you will complete the first step toward the above goal: acquire and prepare the necessary Zillow data from the zillow database in the Codeup database server.\n",
    "\n",
    "1. Acquire `bedroomcnt`, `bathroomcnt`, `calculatedfinishedsquarefeet`, `taxvaluedollarcnt`, `yearbuilt`, `taxamount`, and `fips` from the `zillow` database for all 'Single Family Residential' properties."
   ]
  },
  {
   "cell_type": "code",
   "execution_count": 1,
   "id": "6a93285c",
   "metadata": {},
   "outputs": [],
   "source": [
    "# imports\n",
    "import pandas as pd\n",
    "from matplotlib import pyplot as plt\n",
    "import seaborn as sns\n",
    "# function to write url for sql database\n",
    "def get_url(db):\n",
    "    from env import user, password, host\n",
    "    return f'mysql+pymysql://{user}:{password}@{host}/{db}'"
   ]
  },
  {
   "cell_type": "code",
   "execution_count": 2,
   "id": "004c5344",
   "metadata": {},
   "outputs": [
    {
     "data": {
      "text/html": [
       "<div>\n",
       "<style scoped>\n",
       "    .dataframe tbody tr th:only-of-type {\n",
       "        vertical-align: middle;\n",
       "    }\n",
       "\n",
       "    .dataframe tbody tr th {\n",
       "        vertical-align: top;\n",
       "    }\n",
       "\n",
       "    .dataframe thead th {\n",
       "        text-align: right;\n",
       "    }\n",
       "</style>\n",
       "<table border=\"1\" class=\"dataframe\">\n",
       "  <thead>\n",
       "    <tr style=\"text-align: right;\">\n",
       "      <th></th>\n",
       "      <th>bedroomcnt</th>\n",
       "      <th>bathroomcnt</th>\n",
       "      <th>calculatedfinishedsquarefeet</th>\n",
       "      <th>taxvaluedollarcnt</th>\n",
       "      <th>yearbuilt</th>\n",
       "      <th>taxamount</th>\n",
       "      <th>fips</th>\n",
       "    </tr>\n",
       "  </thead>\n",
       "  <tbody>\n",
       "    <tr>\n",
       "      <th>0</th>\n",
       "      <td>0.0</td>\n",
       "      <td>0.0</td>\n",
       "      <td>NaN</td>\n",
       "      <td>27516.0</td>\n",
       "      <td>NaN</td>\n",
       "      <td>NaN</td>\n",
       "      <td>6037.0</td>\n",
       "    </tr>\n",
       "    <tr>\n",
       "      <th>1</th>\n",
       "      <td>0.0</td>\n",
       "      <td>0.0</td>\n",
       "      <td>NaN</td>\n",
       "      <td>10.0</td>\n",
       "      <td>NaN</td>\n",
       "      <td>NaN</td>\n",
       "      <td>6037.0</td>\n",
       "    </tr>\n",
       "    <tr>\n",
       "      <th>2</th>\n",
       "      <td>0.0</td>\n",
       "      <td>0.0</td>\n",
       "      <td>NaN</td>\n",
       "      <td>10.0</td>\n",
       "      <td>NaN</td>\n",
       "      <td>NaN</td>\n",
       "      <td>6037.0</td>\n",
       "    </tr>\n",
       "    <tr>\n",
       "      <th>3</th>\n",
       "      <td>0.0</td>\n",
       "      <td>0.0</td>\n",
       "      <td>NaN</td>\n",
       "      <td>2108.0</td>\n",
       "      <td>NaN</td>\n",
       "      <td>174.21</td>\n",
       "      <td>6037.0</td>\n",
       "    </tr>\n",
       "    <tr>\n",
       "      <th>4</th>\n",
       "      <td>4.0</td>\n",
       "      <td>2.0</td>\n",
       "      <td>3633.0</td>\n",
       "      <td>296425.0</td>\n",
       "      <td>2005.0</td>\n",
       "      <td>6941.39</td>\n",
       "      <td>6037.0</td>\n",
       "    </tr>\n",
       "  </tbody>\n",
       "</table>\n",
       "</div>"
      ],
      "text/plain": [
       "   bedroomcnt  bathroomcnt  calculatedfinishedsquarefeet  taxvaluedollarcnt  \\\n",
       "0         0.0          0.0                           NaN            27516.0   \n",
       "1         0.0          0.0                           NaN               10.0   \n",
       "2         0.0          0.0                           NaN               10.0   \n",
       "3         0.0          0.0                           NaN             2108.0   \n",
       "4         4.0          2.0                        3633.0           296425.0   \n",
       "\n",
       "   yearbuilt  taxamount    fips  \n",
       "0        NaN        NaN  6037.0  \n",
       "1        NaN        NaN  6037.0  \n",
       "2        NaN        NaN  6037.0  \n",
       "3        NaN     174.21  6037.0  \n",
       "4     2005.0    6941.39  6037.0  "
      ]
     },
     "execution_count": 2,
     "metadata": {},
     "output_type": "execute_result"
    }
   ],
   "source": [
    "# get url for zillow database\n",
    "url = get_url('zillow')\n",
    "# sql query to acquire data\n",
    "sql = '''\n",
    "SELECT bedroomcnt, \n",
    "       bathroomcnt,\n",
    "       calculatedfinishedsquarefeet,\n",
    "       taxvaluedollarcnt,\n",
    "       yearbuilt,\n",
    "       taxamount,\n",
    "       fips\n",
    "FROM properties_2017\n",
    "WHERE propertylandusetypeid IN (261, 279);\n",
    "'''\n",
    "# assign sql query result (dataframe) to variable\n",
    "zillow = pd.read_sql(sql, url)\n",
    "zillow.head()"
   ]
  },
  {
   "cell_type": "code",
   "execution_count": 38,
   "id": "4f1dac38",
   "metadata": {},
   "outputs": [
    {
     "name": "stderr",
     "output_type": "stream",
     "text": [
      "/opt/homebrew/anaconda3/lib/python3.8/site-packages/numpy/lib/arraysetops.py:583: FutureWarning: elementwise comparison failed; returning scalar instead, but in the future will perform elementwise comparison\n",
      "  mask |= (ar1 == a)\n"
     ]
    },
    {
     "data": {
      "text/html": [
       "<div>\n",
       "<style scoped>\n",
       "    .dataframe tbody tr th:only-of-type {\n",
       "        vertical-align: middle;\n",
       "    }\n",
       "\n",
       "    .dataframe tbody tr th {\n",
       "        vertical-align: top;\n",
       "    }\n",
       "\n",
       "    .dataframe thead th {\n",
       "        text-align: right;\n",
       "    }\n",
       "</style>\n",
       "<table border=\"1\" class=\"dataframe\">\n",
       "  <thead>\n",
       "    <tr style=\"text-align: right;\">\n",
       "      <th></th>\n",
       "      <th>bedroomcnt</th>\n",
       "      <th>bathroomcnt</th>\n",
       "      <th>calculatedfinishedsquarefeet</th>\n",
       "      <th>taxvaluedollarcnt</th>\n",
       "      <th>yearbuilt</th>\n",
       "      <th>taxamount</th>\n",
       "      <th>fips</th>\n",
       "    </tr>\n",
       "  </thead>\n",
       "  <tbody>\n",
       "    <tr>\n",
       "      <th>0</th>\n",
       "      <td>0.0</td>\n",
       "      <td>0.0</td>\n",
       "      <td>NaN</td>\n",
       "      <td>27516.0</td>\n",
       "      <td>NaN</td>\n",
       "      <td>NaN</td>\n",
       "      <td>6037.0</td>\n",
       "    </tr>\n",
       "    <tr>\n",
       "      <th>1</th>\n",
       "      <td>0.0</td>\n",
       "      <td>0.0</td>\n",
       "      <td>NaN</td>\n",
       "      <td>10.0</td>\n",
       "      <td>NaN</td>\n",
       "      <td>NaN</td>\n",
       "      <td>6037.0</td>\n",
       "    </tr>\n",
       "    <tr>\n",
       "      <th>2</th>\n",
       "      <td>0.0</td>\n",
       "      <td>0.0</td>\n",
       "      <td>NaN</td>\n",
       "      <td>10.0</td>\n",
       "      <td>NaN</td>\n",
       "      <td>NaN</td>\n",
       "      <td>6037.0</td>\n",
       "    </tr>\n",
       "    <tr>\n",
       "      <th>3</th>\n",
       "      <td>0.0</td>\n",
       "      <td>0.0</td>\n",
       "      <td>NaN</td>\n",
       "      <td>2108.0</td>\n",
       "      <td>NaN</td>\n",
       "      <td>174.21</td>\n",
       "      <td>6037.0</td>\n",
       "    </tr>\n",
       "    <tr>\n",
       "      <th>4</th>\n",
       "      <td>4.0</td>\n",
       "      <td>2.0</td>\n",
       "      <td>3633.0</td>\n",
       "      <td>296425.0</td>\n",
       "      <td>2005.0</td>\n",
       "      <td>6941.39</td>\n",
       "      <td>6037.0</td>\n",
       "    </tr>\n",
       "  </tbody>\n",
       "</table>\n",
       "</div>"
      ],
      "text/plain": [
       "   bedroomcnt  bathroomcnt  calculatedfinishedsquarefeet  taxvaluedollarcnt  \\\n",
       "0         0.0          0.0                           NaN            27516.0   \n",
       "1         0.0          0.0                           NaN               10.0   \n",
       "2         0.0          0.0                           NaN               10.0   \n",
       "3         0.0          0.0                           NaN             2108.0   \n",
       "4         4.0          2.0                        3633.0           296425.0   \n",
       "\n",
       "   yearbuilt  taxamount    fips  \n",
       "0        NaN        NaN  6037.0  \n",
       "1        NaN        NaN  6037.0  \n",
       "2        NaN        NaN  6037.0  \n",
       "3        NaN     174.21  6037.0  \n",
       "4     2005.0    6941.39  6037.0  "
      ]
     },
     "execution_count": 38,
     "metadata": {},
     "output_type": "execute_result"
    }
   ],
   "source": [
    "# make function to acquire/cache data\n",
    "def acquire_zillow():\n",
    "    '''\n",
    "    This function takes no arguments and returns a dataframe of 2017 Single Family \n",
    "    Residential property data from Zillow. It searches for a csv file (zillow.csv)\n",
    "    with the requested data and reads that file into a dataframe. If the csv\n",
    "    file is not found, it retrieves the SQL query result and reads it into a \n",
    "    dataframe. It then caches this data into a csv file (zillow.csv).\n",
    "    '''\n",
    "    import os\n",
    "    if os.path.isfile('zillow.csv'):\n",
    "        zillow = pd.read_csv('zillow.csv', index_col=0)\n",
    "        return zillow\n",
    "    else:\n",
    "        from env import user, password, host\n",
    "        url = f'mysql+pymysql://{user}:{password}@{host}/zillow'\n",
    "        sql = '''\n",
    "        SELECT bedroomcnt, \n",
    "               bathroomcnt,\n",
    "               calculatedfinishedsquarefeet,\n",
    "               taxvaluedollarcnt,\n",
    "               yearbuilt,\n",
    "               taxamount,\n",
    "               fips\n",
    "        FROM properties_2017\n",
    "        WHERE propertylandusetypeid IN (261, 279);\n",
    "        '''\n",
    "        zillow = pd.read_sql(sql, url)\n",
    "        zillow.to_csv('zillow.csv')\n",
    "        return zillow\n",
    "# check that function works\n",
    "zillow = acquire_zillow()\n",
    "zillow.head()"
   ]
  },
  {
   "cell_type": "markdown",
   "id": "da0c5b2d",
   "metadata": {},
   "source": [
    "2. Using your acquired Zillow data, walk through the summarization and cleaning steps in your `wrangle.ipynb` file like we did above. You may handle the missing values however you feel is appropriate and meaningful; remember to document your process and decisions using markdown and code commenting where helpful."
   ]
  },
  {
   "cell_type": "code",
   "execution_count": 39,
   "id": "4f7163ec",
   "metadata": {},
   "outputs": [
    {
     "data": {
      "text/plain": [
       "(2152864, 7)"
      ]
     },
     "execution_count": 39,
     "metadata": {},
     "output_type": "execute_result"
    }
   ],
   "source": [
    "zillow.shape"
   ]
  },
  {
   "cell_type": "code",
   "execution_count": 40,
   "id": "1080a283",
   "metadata": {},
   "outputs": [
    {
     "data": {
      "text/html": [
       "<div>\n",
       "<style scoped>\n",
       "    .dataframe tbody tr th:only-of-type {\n",
       "        vertical-align: middle;\n",
       "    }\n",
       "\n",
       "    .dataframe tbody tr th {\n",
       "        vertical-align: top;\n",
       "    }\n",
       "\n",
       "    .dataframe thead th {\n",
       "        text-align: right;\n",
       "    }\n",
       "</style>\n",
       "<table border=\"1\" class=\"dataframe\">\n",
       "  <thead>\n",
       "    <tr style=\"text-align: right;\">\n",
       "      <th></th>\n",
       "      <th>count</th>\n",
       "      <th>mean</th>\n",
       "      <th>std</th>\n",
       "      <th>min</th>\n",
       "      <th>25%</th>\n",
       "      <th>50%</th>\n",
       "      <th>75%</th>\n",
       "      <th>max</th>\n",
       "    </tr>\n",
       "  </thead>\n",
       "  <tbody>\n",
       "    <tr>\n",
       "      <th>bedroomcnt</th>\n",
       "      <td>2152853.0</td>\n",
       "      <td>3.287195</td>\n",
       "      <td>0.954757</td>\n",
       "      <td>0.00</td>\n",
       "      <td>3.0000</td>\n",
       "      <td>3.000</td>\n",
       "      <td>4.0000</td>\n",
       "      <td>25.00</td>\n",
       "    </tr>\n",
       "    <tr>\n",
       "      <th>bathroomcnt</th>\n",
       "      <td>2152853.0</td>\n",
       "      <td>2.230687</td>\n",
       "      <td>0.999281</td>\n",
       "      <td>0.00</td>\n",
       "      <td>2.0000</td>\n",
       "      <td>2.000</td>\n",
       "      <td>3.0000</td>\n",
       "      <td>32.00</td>\n",
       "    </tr>\n",
       "    <tr>\n",
       "      <th>calculatedfinishedsquarefeet</th>\n",
       "      <td>2144379.0</td>\n",
       "      <td>1862.855178</td>\n",
       "      <td>1222.125124</td>\n",
       "      <td>1.00</td>\n",
       "      <td>1257.0000</td>\n",
       "      <td>1623.000</td>\n",
       "      <td>2208.0000</td>\n",
       "      <td>952576.00</td>\n",
       "    </tr>\n",
       "    <tr>\n",
       "      <th>taxvaluedollarcnt</th>\n",
       "      <td>2152371.0</td>\n",
       "      <td>461896.052361</td>\n",
       "      <td>699675.940049</td>\n",
       "      <td>1.00</td>\n",
       "      <td>188170.0000</td>\n",
       "      <td>327671.000</td>\n",
       "      <td>534527.0000</td>\n",
       "      <td>98428909.00</td>\n",
       "    </tr>\n",
       "    <tr>\n",
       "      <th>yearbuilt</th>\n",
       "      <td>2143526.0</td>\n",
       "      <td>1960.949681</td>\n",
       "      <td>22.162196</td>\n",
       "      <td>1801.00</td>\n",
       "      <td>1949.0000</td>\n",
       "      <td>1958.000</td>\n",
       "      <td>1976.0000</td>\n",
       "      <td>2016.00</td>\n",
       "    </tr>\n",
       "    <tr>\n",
       "      <th>taxamount</th>\n",
       "      <td>2148422.0</td>\n",
       "      <td>5634.863752</td>\n",
       "      <td>8178.908996</td>\n",
       "      <td>1.85</td>\n",
       "      <td>2534.9725</td>\n",
       "      <td>4108.945</td>\n",
       "      <td>6414.3175</td>\n",
       "      <td>1337755.86</td>\n",
       "    </tr>\n",
       "    <tr>\n",
       "      <th>fips</th>\n",
       "      <td>2152864.0</td>\n",
       "      <td>6048.377330</td>\n",
       "      <td>20.433289</td>\n",
       "      <td>6037.00</td>\n",
       "      <td>6037.0000</td>\n",
       "      <td>6037.000</td>\n",
       "      <td>6059.0000</td>\n",
       "      <td>6111.00</td>\n",
       "    </tr>\n",
       "  </tbody>\n",
       "</table>\n",
       "</div>"
      ],
      "text/plain": [
       "                                  count           mean            std  \\\n",
       "bedroomcnt                    2152853.0       3.287195       0.954757   \n",
       "bathroomcnt                   2152853.0       2.230687       0.999281   \n",
       "calculatedfinishedsquarefeet  2144379.0    1862.855178    1222.125124   \n",
       "taxvaluedollarcnt             2152371.0  461896.052361  699675.940049   \n",
       "yearbuilt                     2143526.0    1960.949681      22.162196   \n",
       "taxamount                     2148422.0    5634.863752    8178.908996   \n",
       "fips                          2152864.0    6048.377330      20.433289   \n",
       "\n",
       "                                  min          25%         50%          75%  \\\n",
       "bedroomcnt                       0.00       3.0000       3.000       4.0000   \n",
       "bathroomcnt                      0.00       2.0000       2.000       3.0000   \n",
       "calculatedfinishedsquarefeet     1.00    1257.0000    1623.000    2208.0000   \n",
       "taxvaluedollarcnt                1.00  188170.0000  327671.000  534527.0000   \n",
       "yearbuilt                     1801.00    1949.0000    1958.000    1976.0000   \n",
       "taxamount                        1.85    2534.9725    4108.945    6414.3175   \n",
       "fips                          6037.00    6037.0000    6037.000    6059.0000   \n",
       "\n",
       "                                      max  \n",
       "bedroomcnt                          25.00  \n",
       "bathroomcnt                         32.00  \n",
       "calculatedfinishedsquarefeet    952576.00  \n",
       "taxvaluedollarcnt             98428909.00  \n",
       "yearbuilt                         2016.00  \n",
       "taxamount                      1337755.86  \n",
       "fips                              6111.00  "
      ]
     },
     "execution_count": 40,
     "metadata": {},
     "output_type": "execute_result"
    }
   ],
   "source": [
    "zillow.describe().T"
   ]
  },
  {
   "cell_type": "code",
   "execution_count": 41,
   "id": "60c3900a",
   "metadata": {},
   "outputs": [
    {
     "name": "stdout",
     "output_type": "stream",
     "text": [
      "<class 'pandas.core.frame.DataFrame'>\n",
      "Int64Index: 2152864 entries, 0 to 2152863\n",
      "Data columns (total 7 columns):\n",
      " #   Column                        Dtype  \n",
      "---  ------                        -----  \n",
      " 0   bedroomcnt                    float64\n",
      " 1   bathroomcnt                   float64\n",
      " 2   calculatedfinishedsquarefeet  float64\n",
      " 3   taxvaluedollarcnt             float64\n",
      " 4   yearbuilt                     float64\n",
      " 5   taxamount                     float64\n",
      " 6   fips                          float64\n",
      "dtypes: float64(7)\n",
      "memory usage: 131.4 MB\n"
     ]
    }
   ],
   "source": [
    "zillow.info()"
   ]
  },
  {
   "cell_type": "code",
   "execution_count": 42,
   "id": "e9201451",
   "metadata": {},
   "outputs": [
    {
     "data": {
      "text/plain": [
       "bedroomcnt                        11\n",
       "bathroomcnt                       11\n",
       "calculatedfinishedsquarefeet    8485\n",
       "taxvaluedollarcnt                493\n",
       "yearbuilt                       9338\n",
       "taxamount                       4442\n",
       "fips                               0\n",
       "dtype: int64"
      ]
     },
     "execution_count": 42,
     "metadata": {},
     "output_type": "execute_result"
    }
   ],
   "source": [
    "zillow.isna().sum()"
   ]
  },
  {
   "cell_type": "code",
   "execution_count": 43,
   "id": "2c085c70",
   "metadata": {},
   "outputs": [
    {
     "data": {
      "text/html": [
       "<div>\n",
       "<style scoped>\n",
       "    .dataframe tbody tr th:only-of-type {\n",
       "        vertical-align: middle;\n",
       "    }\n",
       "\n",
       "    .dataframe tbody tr th {\n",
       "        vertical-align: top;\n",
       "    }\n",
       "\n",
       "    .dataframe thead th {\n",
       "        text-align: right;\n",
       "    }\n",
       "</style>\n",
       "<table border=\"1\" class=\"dataframe\">\n",
       "  <thead>\n",
       "    <tr style=\"text-align: right;\">\n",
       "      <th></th>\n",
       "      <th>bedroomcnt</th>\n",
       "      <th>bathroomcnt</th>\n",
       "      <th>calculatedfinishedsquarefeet</th>\n",
       "      <th>taxvaluedollarcnt</th>\n",
       "      <th>yearbuilt</th>\n",
       "      <th>taxamount</th>\n",
       "      <th>fips</th>\n",
       "    </tr>\n",
       "  </thead>\n",
       "  <tbody>\n",
       "    <tr>\n",
       "      <th>107763</th>\n",
       "      <td>NaN</td>\n",
       "      <td>NaN</td>\n",
       "      <td>NaN</td>\n",
       "      <td>67366.0</td>\n",
       "      <td>1926.0</td>\n",
       "      <td>780.54</td>\n",
       "      <td>6059.0</td>\n",
       "    </tr>\n",
       "    <tr>\n",
       "      <th>118612</th>\n",
       "      <td>NaN</td>\n",
       "      <td>NaN</td>\n",
       "      <td>NaN</td>\n",
       "      <td>43992.0</td>\n",
       "      <td>1946.0</td>\n",
       "      <td>541.64</td>\n",
       "      <td>6059.0</td>\n",
       "    </tr>\n",
       "    <tr>\n",
       "      <th>193993</th>\n",
       "      <td>NaN</td>\n",
       "      <td>NaN</td>\n",
       "      <td>1348.0</td>\n",
       "      <td>840698.0</td>\n",
       "      <td>1952.0</td>\n",
       "      <td>NaN</td>\n",
       "      <td>6059.0</td>\n",
       "    </tr>\n",
       "    <tr>\n",
       "      <th>1141340</th>\n",
       "      <td>NaN</td>\n",
       "      <td>NaN</td>\n",
       "      <td>200.0</td>\n",
       "      <td>188972.0</td>\n",
       "      <td>NaN</td>\n",
       "      <td>NaN</td>\n",
       "      <td>6037.0</td>\n",
       "    </tr>\n",
       "    <tr>\n",
       "      <th>1324609</th>\n",
       "      <td>NaN</td>\n",
       "      <td>NaN</td>\n",
       "      <td>990.0</td>\n",
       "      <td>435000.0</td>\n",
       "      <td>1906.0</td>\n",
       "      <td>NaN</td>\n",
       "      <td>6037.0</td>\n",
       "    </tr>\n",
       "    <tr>\n",
       "      <th>1442976</th>\n",
       "      <td>NaN</td>\n",
       "      <td>NaN</td>\n",
       "      <td>NaN</td>\n",
       "      <td>273196.0</td>\n",
       "      <td>NaN</td>\n",
       "      <td>NaN</td>\n",
       "      <td>6037.0</td>\n",
       "    </tr>\n",
       "    <tr>\n",
       "      <th>1647347</th>\n",
       "      <td>NaN</td>\n",
       "      <td>NaN</td>\n",
       "      <td>400.0</td>\n",
       "      <td>28347.0</td>\n",
       "      <td>1954.0</td>\n",
       "      <td>NaN</td>\n",
       "      <td>6037.0</td>\n",
       "    </tr>\n",
       "    <tr>\n",
       "      <th>1701027</th>\n",
       "      <td>NaN</td>\n",
       "      <td>NaN</td>\n",
       "      <td>NaN</td>\n",
       "      <td>407930.0</td>\n",
       "      <td>1926.0</td>\n",
       "      <td>NaN</td>\n",
       "      <td>6037.0</td>\n",
       "    </tr>\n",
       "    <tr>\n",
       "      <th>1722708</th>\n",
       "      <td>NaN</td>\n",
       "      <td>NaN</td>\n",
       "      <td>NaN</td>\n",
       "      <td>477161.0</td>\n",
       "      <td>NaN</td>\n",
       "      <td>NaN</td>\n",
       "      <td>6037.0</td>\n",
       "    </tr>\n",
       "    <tr>\n",
       "      <th>1776423</th>\n",
       "      <td>NaN</td>\n",
       "      <td>NaN</td>\n",
       "      <td>NaN</td>\n",
       "      <td>38855.0</td>\n",
       "      <td>NaN</td>\n",
       "      <td>NaN</td>\n",
       "      <td>6037.0</td>\n",
       "    </tr>\n",
       "    <tr>\n",
       "      <th>1797986</th>\n",
       "      <td>NaN</td>\n",
       "      <td>NaN</td>\n",
       "      <td>NaN</td>\n",
       "      <td>1017957.0</td>\n",
       "      <td>1990.0</td>\n",
       "      <td>NaN</td>\n",
       "      <td>6037.0</td>\n",
       "    </tr>\n",
       "  </tbody>\n",
       "</table>\n",
       "</div>"
      ],
      "text/plain": [
       "         bedroomcnt  bathroomcnt  calculatedfinishedsquarefeet  \\\n",
       "107763          NaN          NaN                           NaN   \n",
       "118612          NaN          NaN                           NaN   \n",
       "193993          NaN          NaN                        1348.0   \n",
       "1141340         NaN          NaN                         200.0   \n",
       "1324609         NaN          NaN                         990.0   \n",
       "1442976         NaN          NaN                           NaN   \n",
       "1647347         NaN          NaN                         400.0   \n",
       "1701027         NaN          NaN                           NaN   \n",
       "1722708         NaN          NaN                           NaN   \n",
       "1776423         NaN          NaN                           NaN   \n",
       "1797986         NaN          NaN                           NaN   \n",
       "\n",
       "         taxvaluedollarcnt  yearbuilt  taxamount    fips  \n",
       "107763             67366.0     1926.0     780.54  6059.0  \n",
       "118612             43992.0     1946.0     541.64  6059.0  \n",
       "193993            840698.0     1952.0        NaN  6059.0  \n",
       "1141340           188972.0        NaN        NaN  6037.0  \n",
       "1324609           435000.0     1906.0        NaN  6037.0  \n",
       "1442976           273196.0        NaN        NaN  6037.0  \n",
       "1647347            28347.0     1954.0        NaN  6037.0  \n",
       "1701027           407930.0     1926.0        NaN  6037.0  \n",
       "1722708           477161.0        NaN        NaN  6037.0  \n",
       "1776423            38855.0        NaN        NaN  6037.0  \n",
       "1797986          1017957.0     1990.0        NaN  6037.0  "
      ]
     },
     "execution_count": 43,
     "metadata": {},
     "output_type": "execute_result"
    }
   ],
   "source": [
    "zillow[zillow.bedroomcnt.isna()]"
   ]
  },
  {
   "cell_type": "markdown",
   "id": "d5d343d3",
   "metadata": {},
   "source": [
    "Both bedroomcnt and bathroomcnt are missing 11 values; the data above shows me that they are missing values in the same rows. Considering there are over 2 million observations in this dataset, I should be able to drop these 11 rows without affecting the data too much.\n",
    "\n",
    "This spurs another question: if I were to drop all rows with null values, how much of the data would I actually lose?\n",
    "\n",
    "I know it would be at least 9338 rows since yearbuilt is missing 9338 values. It is definitely more than that though because I can see that some of the 11 rows depicted above are not missing a yearbuilt value. Next I will try to determine the total number of rows containing null values to see if it would be too significant to drop all of those rows."
   ]
  },
  {
   "cell_type": "code",
   "execution_count": 44,
   "id": "844a3083",
   "metadata": {},
   "outputs": [
    {
     "data": {
      "text/plain": [
       "12629"
      ]
     },
     "execution_count": 44,
     "metadata": {},
     "output_type": "execute_result"
    }
   ],
   "source": [
    "# create series of bools for whether or not each row contains a null\n",
    "zillow.isna().any(axis=1)\n",
    "# count true values in series\n",
    "zillow.isna().any(axis=1).sum()"
   ]
  },
  {
   "cell_type": "markdown",
   "id": "4c1d95cb",
   "metadata": {},
   "source": [
    "There are 12,629 rows containing null values!"
   ]
  },
  {
   "cell_type": "code",
   "execution_count": 45,
   "id": "54004928",
   "metadata": {},
   "outputs": [
    {
     "name": "stdout",
     "output_type": "stream",
     "text": [
      "Proportion of rows with null values in zillow dataset: 0.59%\n"
     ]
    }
   ],
   "source": [
    "# find percentage of zillow's rows with null values\n",
    "print(f'Proportion of rows with null values in zillow dataset: {((zillow.isna().any(axis=1).sum())/len(zillow)):.2%}')"
   ]
  },
  {
   "cell_type": "markdown",
   "id": "69a1bc2d",
   "metadata": {},
   "source": [
    "Only about half a percent of the zillow dataset would be lost if I were to drop all rows with null values. I think that is reasonable and won't compromise the data, so I will go ahead and drop all rows containing null values.\n",
    "\n",
    "After dropping all null values from the dataset, I will be left with 99.4% of the original data retrieved from the SQL server."
   ]
  },
  {
   "cell_type": "code",
   "execution_count": 46,
   "id": "f048ae00",
   "metadata": {},
   "outputs": [
    {
     "name": "stdout",
     "output_type": "stream",
     "text": [
      "<class 'pandas.core.frame.DataFrame'>\n",
      "Int64Index: 2140235 entries, 4 to 2152863\n",
      "Data columns (total 7 columns):\n",
      " #   Column                        Dtype  \n",
      "---  ------                        -----  \n",
      " 0   bedroomcnt                    float64\n",
      " 1   bathroomcnt                   float64\n",
      " 2   calculatedfinishedsquarefeet  float64\n",
      " 3   taxvaluedollarcnt             float64\n",
      " 4   yearbuilt                     float64\n",
      " 5   taxamount                     float64\n",
      " 6   fips                          float64\n",
      "dtypes: float64(7)\n",
      "memory usage: 130.6 MB\n"
     ]
    }
   ],
   "source": [
    "# drop rows with null values, reassign dataframe variable\n",
    "zillow = zillow.dropna()\n",
    "# verify rows were dropped\n",
    "zillow.info()"
   ]
  },
  {
   "cell_type": "code",
   "execution_count": 47,
   "id": "385a7ef8",
   "metadata": {},
   "outputs": [
    {
     "name": "stdout",
     "output_type": "stream",
     "text": [
      "bedroomcnt \n",
      "\n",
      "3.0     962944\n",
      "4.0     633608\n",
      "2.0     334221\n",
      "5.0     150671\n",
      "6.0      25117\n",
      "1.0      22895\n",
      "7.0       4792\n",
      "0.0       4397\n",
      "8.0       1103\n",
      "9.0        290\n",
      "10.0       118\n",
      "11.0        34\n",
      "13.0        15\n",
      "12.0        12\n",
      "14.0         7\n",
      "15.0         5\n",
      "18.0         3\n",
      "16.0         2\n",
      "25.0         1\n",
      "Name: bedroomcnt, dtype: int64 \n",
      "\n",
      "bathroomcnt \n",
      "\n",
      "2.00     942463\n",
      "3.00     422398\n",
      "1.00     412582\n",
      "2.50     142827\n",
      "4.00      82039\n",
      "1.50      31157\n",
      "3.50      28464\n",
      "5.00      28306\n",
      "4.50      19474\n",
      "6.00      10717\n",
      "5.50       6201\n",
      "7.00       4381\n",
      "0.00       4274\n",
      "8.00       1681\n",
      "6.50       1330\n",
      "9.00        707\n",
      "7.50        382\n",
      "10.00       322\n",
      "11.00       145\n",
      "8.50        108\n",
      "12.00        73\n",
      "9.50         50\n",
      "13.00        39\n",
      "14.00        25\n",
      "15.00        17\n",
      "0.50         16\n",
      "10.50        14\n",
      "16.00        12\n",
      "18.00         8\n",
      "20.00         6\n",
      "17.00         4\n",
      "1.75          3\n",
      "12.50         3\n",
      "11.50         3\n",
      "14.50         1\n",
      "32.00         1\n",
      "19.50         1\n",
      "19.00         1\n",
      "Name: bathroomcnt, dtype: int64 \n",
      "\n",
      "calculatedfinishedsquarefeet \n",
      "\n",
      "1200.0     5184\n",
      "1080.0     4376\n",
      "1120.0     4354\n",
      "1400.0     3828\n",
      "1440.0     3684\n",
      "           ... \n",
      "7287.0        1\n",
      "9608.0        1\n",
      "9344.0        1\n",
      "20327.0       1\n",
      "7495.0        1\n",
      "Name: calculatedfinishedsquarefeet, Length: 10557, dtype: int64 \n",
      "\n",
      "taxvaluedollarcnt \n",
      "\n",
      "450000.0     820\n",
      "500000.0     774\n",
      "400000.0     723\n",
      "430000.0     690\n",
      "440000.0     683\n",
      "            ... \n",
      "1210005.0      1\n",
      "238757.0       1\n",
      "1082111.0      1\n",
      "1216800.0      1\n",
      "1436013.0      1\n",
      "Name: taxvaluedollarcnt, Length: 588178, dtype: int64 \n",
      "\n",
      "yearbuilt \n",
      "\n",
      "1955.0    84329\n",
      "1950.0    71606\n",
      "1954.0    69069\n",
      "1953.0    62270\n",
      "1956.0    61858\n",
      "          ...  \n",
      "1879.0        1\n",
      "1877.0        1\n",
      "1855.0        1\n",
      "1874.0        1\n",
      "1823.0        1\n",
      "Name: yearbuilt, Length: 153, dtype: int64 \n",
      "\n",
      "taxamount \n",
      "\n",
      "345.72      172\n",
      "344.18       76\n",
      "343.52       74\n",
      "49.18        46\n",
      "388.18       37\n",
      "           ... \n",
      "14287.41      1\n",
      "16085.37      1\n",
      "2638.49       1\n",
      "15390.19      1\n",
      "19517.64      1\n",
      "Name: taxamount, Length: 915868, dtype: int64 \n",
      "\n",
      "fips \n",
      "\n",
      "6037.0    1425207\n",
      "6059.0     552057\n",
      "6111.0     162971\n",
      "Name: fips, dtype: int64 \n",
      "\n"
     ]
    }
   ],
   "source": [
    "# view value counts for each column\n",
    "for col in zillow.columns:\n",
    "    print(col,'\\n')\n",
    "    print(zillow[col].value_counts(),'\\n')"
   ]
  },
  {
   "cell_type": "markdown",
   "id": "d5e663c4",
   "metadata": {},
   "source": [
    "Next, I will convert fips and yearbuilt to object dtypes since they are categorical variables. I will leave the other columns as floats since I can work with that dtype in later stages of the pipeline."
   ]
  },
  {
   "cell_type": "code",
   "execution_count": 48,
   "id": "000b568c",
   "metadata": {},
   "outputs": [
    {
     "name": "stdout",
     "output_type": "stream",
     "text": [
      "<class 'pandas.core.frame.DataFrame'>\n",
      "Int64Index: 2140235 entries, 4 to 2152863\n",
      "Data columns (total 7 columns):\n",
      " #   Column                        Dtype  \n",
      "---  ------                        -----  \n",
      " 0   bedroomcnt                    float64\n",
      " 1   bathroomcnt                   float64\n",
      " 2   calculatedfinishedsquarefeet  float64\n",
      " 3   taxvaluedollarcnt             float64\n",
      " 4   yearbuilt                     object \n",
      " 5   taxamount                     float64\n",
      " 6   fips                          object \n",
      "dtypes: float64(5), object(2)\n",
      "memory usage: 130.6+ MB\n"
     ]
    }
   ],
   "source": [
    "# convert dtypes to obj\n",
    "zillow.fips = zillow['fips'].astype('O') \n",
    "zillow.yearbuilt = zillow['yearbuilt'].astype('O')\n",
    "# confirm dtypes have been changed\n",
    "zillow.info()"
   ]
  },
  {
   "cell_type": "markdown",
   "id": "9b9a00ef",
   "metadata": {},
   "source": [
    "For ease of use, I will rename some of the columns in this dataframe."
   ]
  },
  {
   "cell_type": "code",
   "execution_count": 49,
   "id": "a2ebf5c9",
   "metadata": {},
   "outputs": [
    {
     "data": {
      "text/html": [
       "<div>\n",
       "<style scoped>\n",
       "    .dataframe tbody tr th:only-of-type {\n",
       "        vertical-align: middle;\n",
       "    }\n",
       "\n",
       "    .dataframe tbody tr th {\n",
       "        vertical-align: top;\n",
       "    }\n",
       "\n",
       "    .dataframe thead th {\n",
       "        text-align: right;\n",
       "    }\n",
       "</style>\n",
       "<table border=\"1\" class=\"dataframe\">\n",
       "  <thead>\n",
       "    <tr style=\"text-align: right;\">\n",
       "      <th></th>\n",
       "      <th>beds</th>\n",
       "      <th>baths</th>\n",
       "      <th>sq_ft</th>\n",
       "      <th>tax_value</th>\n",
       "      <th>yearbuilt</th>\n",
       "      <th>taxamount</th>\n",
       "      <th>fips</th>\n",
       "    </tr>\n",
       "  </thead>\n",
       "  <tbody>\n",
       "    <tr>\n",
       "      <th>4</th>\n",
       "      <td>4.0</td>\n",
       "      <td>2.0</td>\n",
       "      <td>3633.0</td>\n",
       "      <td>296425.0</td>\n",
       "      <td>2005.0</td>\n",
       "      <td>6941.39</td>\n",
       "      <td>6037.0</td>\n",
       "    </tr>\n",
       "    <tr>\n",
       "      <th>6</th>\n",
       "      <td>3.0</td>\n",
       "      <td>4.0</td>\n",
       "      <td>1620.0</td>\n",
       "      <td>847770.0</td>\n",
       "      <td>2011.0</td>\n",
       "      <td>10244.94</td>\n",
       "      <td>6037.0</td>\n",
       "    </tr>\n",
       "    <tr>\n",
       "      <th>7</th>\n",
       "      <td>3.0</td>\n",
       "      <td>2.0</td>\n",
       "      <td>2077.0</td>\n",
       "      <td>646760.0</td>\n",
       "      <td>1926.0</td>\n",
       "      <td>7924.68</td>\n",
       "      <td>6037.0</td>\n",
       "    </tr>\n",
       "    <tr>\n",
       "      <th>11</th>\n",
       "      <td>0.0</td>\n",
       "      <td>0.0</td>\n",
       "      <td>1200.0</td>\n",
       "      <td>5328.0</td>\n",
       "      <td>1972.0</td>\n",
       "      <td>91.60</td>\n",
       "      <td>6037.0</td>\n",
       "    </tr>\n",
       "    <tr>\n",
       "      <th>14</th>\n",
       "      <td>0.0</td>\n",
       "      <td>0.0</td>\n",
       "      <td>171.0</td>\n",
       "      <td>6920.0</td>\n",
       "      <td>1973.0</td>\n",
       "      <td>255.17</td>\n",
       "      <td>6037.0</td>\n",
       "    </tr>\n",
       "  </tbody>\n",
       "</table>\n",
       "</div>"
      ],
      "text/plain": [
       "    beds  baths   sq_ft  tax_value yearbuilt  taxamount    fips\n",
       "4    4.0    2.0  3633.0   296425.0    2005.0    6941.39  6037.0\n",
       "6    3.0    4.0  1620.0   847770.0    2011.0   10244.94  6037.0\n",
       "7    3.0    2.0  2077.0   646760.0    1926.0    7924.68  6037.0\n",
       "11   0.0    0.0  1200.0     5328.0    1972.0      91.60  6037.0\n",
       "14   0.0    0.0   171.0     6920.0    1973.0     255.17  6037.0"
      ]
     },
     "execution_count": 49,
     "metadata": {},
     "output_type": "execute_result"
    }
   ],
   "source": [
    "# rename columns\n",
    "zillow.rename(columns={'bedroomcnt':'beds', \n",
    "               'bathroomcnt':'baths', \n",
    "               'calculatedfinishedsquarefeet':'sq_ft', \n",
    "               'taxvaluedollarcnt':'tax_value'}, inplace=True)\n",
    "zillow.head()"
   ]
  },
  {
   "cell_type": "markdown",
   "id": "a9349f5e",
   "metadata": {},
   "source": [
    "Just from looking at the value counts above, I can see there are a lot of outliers in this data. At this stage, I will view distributions of individual variables and get a better look into the outliers, which I intend to remove."
   ]
  },
  {
   "cell_type": "code",
   "execution_count": 50,
   "id": "32cdaaa0",
   "metadata": {},
   "outputs": [
    {
     "data": {
      "image/png": "[encoded data removed]",
      "text/plain": [
       "<Figure size 432x288 with 1 Axes>"
      ]
     },
     "metadata": {
      "needs_background": "light"
     },
     "output_type": "display_data"
    },
    {
     "data": {
      "image/png": "[encoded data removed]",
      "text/plain": [
       "<Figure size 432x288 with 1 Axes>"
      ]
     },
     "metadata": {
      "needs_background": "light"
     },
     "output_type": "display_data"
    },
    {
     "data": {
      "image/png": "[encoded data removed]",
      "text/plain": [
       "<Figure size 432x288 with 1 Axes>"
      ]
     },
     "metadata": {
      "needs_background": "light"
     },
     "output_type": "display_data"
    },
    {
     "data": {
      "image/png": "[encoded data removed]",
      "text/plain": [
       "<Figure size 432x288 with 1 Axes>"
      ]
     },
     "metadata": {
      "needs_background": "light"
     },
     "output_type": "display_data"
    },
    {
     "data": {
      "image/png": "[encoded data removed]",
      "text/plain": [
       "<Figure size 432x288 with 1 Axes>"
      ]
     },
     "metadata": {
      "needs_background": "light"
     },
     "output_type": "display_data"
    }
   ],
   "source": [
    "# view histograms of non-categorical columns\n",
    "for col in zillow.select_dtypes(float):\n",
    "    zillow[col].hist(bins=10, edgecolor='k')\n",
    "    plt.title(col)\n",
    "    plt.grid(False)\n",
    "    plt.show()"
   ]
  },
  {
   "cell_type": "code",
   "execution_count": 51,
   "id": "96bf3df1",
   "metadata": {},
   "outputs": [
    {
     "data": {
      "text/plain": [
       "<AxesSubplot:>"
      ]
     },
     "execution_count": 51,
     "metadata": {},
     "output_type": "execute_result"
    },
    {
     "data": {
      "image/png": "[encoded data removed]",
      "text/plain": [
       "<Figure size 432x288 with 1 Axes>"
      ]
     },
     "metadata": {
      "needs_background": "light"
     },
     "output_type": "display_data"
    }
   ],
   "source": [
    "# view boxplots of non-categorical columns\n",
    "sns.boxplot(data=zillow.select_dtypes(float))"
   ]
  },
  {
   "cell_type": "markdown",
   "id": "33adfd88",
   "metadata": {},
   "source": [
    "**Takeaways:**\n",
    "- From the histograms, I know there are outliers in every non-categorical column.\n",
    "- From the boxplots, I can see right off the bat there are tons of outliers in the tax_value column.\n",
    "    - There are so many I can't even see the other boxplots\n",
    "    - I will create individual boxplots for each of these variables to get a better look at them."
   ]
  },
  {
   "cell_type": "code",
   "execution_count": 52,
   "id": "2757d6dc",
   "metadata": {},
   "outputs": [
    {
     "data": {
      "image/png": "[encoded data removed]",
      "text/plain": [
       "<Figure size 720x720 with 5 Axes>"
      ]
     },
     "metadata": {
      "needs_background": "light"
     },
     "output_type": "display_data"
    }
   ],
   "source": [
    "plt.figure(figsize=(10, 10))\n",
    "for i, col in enumerate(zillow.select_dtypes(float)):\n",
    "    subplot_num = i + 1\n",
    "    plt.subplot(1, 5, subplot_num)\n",
    "    plt.boxplot(zillow[col])\n",
    "    plt.title(col)\n",
    "plt.tight_layout()\n",
    "plt.show();"
   ]
  },
  {
   "cell_type": "markdown",
   "id": "673825bc",
   "metadata": {},
   "source": [
    "There are lots of outliers in each of these columns! tax_value and taxamount have the biggest outlier problem."
   ]
  },
  {
   "cell_type": "code",
   "execution_count": 53,
   "id": "a23e6249",
   "metadata": {},
   "outputs": [
    {
     "data": {
      "text/html": [
       "<div>\n",
       "<style scoped>\n",
       "    .dataframe tbody tr th:only-of-type {\n",
       "        vertical-align: middle;\n",
       "    }\n",
       "\n",
       "    .dataframe tbody tr th {\n",
       "        vertical-align: top;\n",
       "    }\n",
       "\n",
       "    .dataframe thead th {\n",
       "        text-align: right;\n",
       "    }\n",
       "</style>\n",
       "<table border=\"1\" class=\"dataframe\">\n",
       "  <thead>\n",
       "    <tr style=\"text-align: right;\">\n",
       "      <th></th>\n",
       "      <th>beds</th>\n",
       "      <th>baths</th>\n",
       "      <th>sq_ft</th>\n",
       "      <th>tax_value</th>\n",
       "      <th>taxamount</th>\n",
       "    </tr>\n",
       "  </thead>\n",
       "  <tbody>\n",
       "    <tr>\n",
       "      <th>count</th>\n",
       "      <td>2.14024e+06</td>\n",
       "      <td>2.14024e+06</td>\n",
       "      <td>2.14024e+06</td>\n",
       "      <td>2.14024e+06</td>\n",
       "      <td>2.14024e+06</td>\n",
       "    </tr>\n",
       "    <tr>\n",
       "      <th>mean</th>\n",
       "      <td>3.30142</td>\n",
       "      <td>2.24035</td>\n",
       "      <td>1863.19</td>\n",
       "      <td>460642</td>\n",
       "      <td>5616.71</td>\n",
       "    </tr>\n",
       "    <tr>\n",
       "      <th>std</th>\n",
       "      <td>0.9326</td>\n",
       "      <td>0.990549</td>\n",
       "      <td>1221.75</td>\n",
       "      <td>677158</td>\n",
       "      <td>7814.56</td>\n",
       "    </tr>\n",
       "    <tr>\n",
       "      <th>min</th>\n",
       "      <td>0</td>\n",
       "      <td>0</td>\n",
       "      <td>1</td>\n",
       "      <td>22</td>\n",
       "      <td>6.34</td>\n",
       "    </tr>\n",
       "    <tr>\n",
       "      <th>25%</th>\n",
       "      <td>3</td>\n",
       "      <td>2</td>\n",
       "      <td>1258</td>\n",
       "      <td>189166</td>\n",
       "      <td>2540.85</td>\n",
       "    </tr>\n",
       "    <tr>\n",
       "      <th>50%</th>\n",
       "      <td>3</td>\n",
       "      <td>2</td>\n",
       "      <td>1623</td>\n",
       "      <td>328296</td>\n",
       "      <td>4111.47</td>\n",
       "    </tr>\n",
       "    <tr>\n",
       "      <th>75%</th>\n",
       "      <td>4</td>\n",
       "      <td>3</td>\n",
       "      <td>2208</td>\n",
       "      <td>534606</td>\n",
       "      <td>6411.93</td>\n",
       "    </tr>\n",
       "    <tr>\n",
       "      <th>max</th>\n",
       "      <td>25</td>\n",
       "      <td>32</td>\n",
       "      <td>952576</td>\n",
       "      <td>9.01885e+07</td>\n",
       "      <td>1.0781e+06</td>\n",
       "    </tr>\n",
       "  </tbody>\n",
       "</table>\n",
       "</div>"
      ],
      "text/plain": [
       "              beds        baths        sq_ft    tax_value    taxamount\n",
       "count  2.14024e+06  2.14024e+06  2.14024e+06  2.14024e+06  2.14024e+06\n",
       "mean       3.30142      2.24035      1863.19       460642      5616.71\n",
       "std         0.9326     0.990549      1221.75       677158      7814.56\n",
       "min              0            0            1           22         6.34\n",
       "25%              3            2         1258       189166      2540.85\n",
       "50%              3            2         1623       328296      4111.47\n",
       "75%              4            3         2208       534606      6411.93\n",
       "max             25           32       952576  9.01885e+07   1.0781e+06"
      ]
     },
     "execution_count": 53,
     "metadata": {},
     "output_type": "execute_result"
    }
   ],
   "source": [
    "# from Adam's review!\n",
    "# allows for viewing descriptive stats w/o excessive scientific notation\n",
    "# view quartiles\n",
    "zillow.describe().apply(lambda s: s.apply(lambda x: format(x, 'g')))"
   ]
  },
  {
   "cell_type": "markdown",
   "id": "017e58bc",
   "metadata": {},
   "source": [
    "The majority of the target market will most likely be interested in \"regular\" houses, or those properties whose attributes fall near the median values in this dataset. Therefore, I will remove outliers and focus on properties in the median range."
   ]
  },
  {
   "cell_type": "code",
   "execution_count": 54,
   "id": "435cc1af",
   "metadata": {},
   "outputs": [],
   "source": [
    "# create function to remove outliers\n",
    "def remove_outliers(zillow, cols, k):\n",
    "    '''\n",
    "    This function takes in a dataframe, a list of columns from that dataframe,\n",
    "    and a k-value (int) which is used to specify the upper and lower bounds \n",
    "    for removing outliers. It returns the dataframe with the outliers removed.\n",
    "    '''\n",
    "    # make for loop to remove outliers in each column\n",
    "    for col in cols:\n",
    "        # get quartiles\n",
    "        q1, q3 = zillow[col].quantile([.25, .75])\n",
    "        # compute iqr\n",
    "        iqr = q3 - q1\n",
    "        # get cutoff points for removing outliers\n",
    "        upper = q3 + k * iqr\n",
    "        lower = q1 - k * iqr\n",
    "        # remove outliers\n",
    "        zillow = zillow[(zillow[col]>lower)&(zillow[col]<upper)]\n",
    "    return zillow"
   ]
  },
  {
   "cell_type": "code",
   "execution_count": 61,
   "id": "6b17f912",
   "metadata": {},
   "outputs": [
    {
     "name": "stdout",
     "output_type": "stream",
     "text": [
      "(2140235, 7)\n",
      "(1854286, 7)\n"
     ]
    }
   ],
   "source": [
    "# select columns from which to remove outliers\n",
    "cols = zillow.select_dtypes(float)\n",
    "# test function\n",
    "print(zillow.shape)\n",
    "print(remove_outliers(zillow, cols, 1.5).shape)"
   ]
  },
  {
   "cell_type": "code",
   "execution_count": 62,
   "id": "c19e3496",
   "metadata": {},
   "outputs": [
    {
     "name": "stdout",
     "output_type": "stream",
     "text": [
      "(2140235, 7)\n",
      "(1854286, 7)\n"
     ]
    }
   ],
   "source": [
    "# implement function with before/after print functions just to be double sure it worked\n",
    "print(f'Shape with outliers: {zillow.shape}')\n",
    "zillow = remove_outliers(zillow, cols, 1.5)\n",
    "print(f'Shape with outliers: {zillow.shape}')"
   ]
  },
  {
   "cell_type": "markdown",
   "id": "7bbbc150",
   "metadata": {},
   "source": [
    "3. Store all of the necessary functions to automate your process from acquiring the data to returning a cleaned dataframe with no missing values in your `wrangle.py` file. Name your final function `wrangle_zillow`."
   ]
  },
  {
   "cell_type": "code",
   "execution_count": 64,
   "id": "034e461c",
   "metadata": {},
   "outputs": [],
   "source": [
    "# combine previous steps into a single prep function\n",
    "def prep_zillow(zillow):\n",
    "    zillow = zillow.dropna()\n",
    "    zillow.fips = zillow['fips'].astype('O') \n",
    "    zillow.yearbuilt = zillow['yearbuilt'].astype('O')\n",
    "    zillow.rename(columns={'bedroomcnt':'beds', \n",
    "                   'bathroomcnt':'baths', \n",
    "                   'calculatedfinishedsquarefeet':'sq_ft', \n",
    "                   'taxvaluedollarcnt':'tax_value'}, inplace=True)\n",
    "    cols = zillow.select_dtypes(float)\n",
    "    zillow = remove_outliers(zillow, cols, 1.5)\n",
    "    return zillow"
   ]
  },
  {
   "cell_type": "code",
   "execution_count": 68,
   "id": "03d88797",
   "metadata": {},
   "outputs": [
    {
     "name": "stderr",
     "output_type": "stream",
     "text": [
      "/opt/homebrew/anaconda3/lib/python3.8/site-packages/numpy/lib/arraysetops.py:583: FutureWarning: elementwise comparison failed; returning scalar instead, but in the future will perform elementwise comparison\n",
      "  mask |= (ar1 == a)\n",
      "/opt/homebrew/anaconda3/lib/python3.8/site-packages/pandas/core/generic.py:5494: SettingWithCopyWarning: \n",
      "A value is trying to be set on a copy of a slice from a DataFrame.\n",
      "Try using .loc[row_indexer,col_indexer] = value instead\n",
      "\n",
      "See the caveats in the documentation: https://pandas.pydata.org/pandas-docs/stable/user_guide/indexing.html#returning-a-view-versus-a-copy\n",
      "  self[name] = value\n",
      "/opt/homebrew/anaconda3/lib/python3.8/site-packages/pandas/core/frame.py:4441: SettingWithCopyWarning: \n",
      "A value is trying to be set on a copy of a slice from a DataFrame\n",
      "\n",
      "See the caveats in the documentation: https://pandas.pydata.org/pandas-docs/stable/user_guide/indexing.html#returning-a-view-versus-a-copy\n",
      "  return super().rename(\n"
     ]
    },
    {
     "name": "stdout",
     "output_type": "stream",
     "text": [
      "<class 'pandas.core.frame.DataFrame'>\n",
      "Int64Index: 1854286 entries, 6 to 2152863\n",
      "Data columns (total 7 columns):\n",
      " #   Column     Dtype  \n",
      "---  ------     -----  \n",
      " 0   beds       float64\n",
      " 1   baths      float64\n",
      " 2   sq_ft      float64\n",
      " 3   tax_value  float64\n",
      " 4   yearbuilt  object \n",
      " 5   taxamount  float64\n",
      " 6   fips       object \n",
      "dtypes: float64(5), object(2)\n",
      "memory usage: 113.2+ MB\n"
     ]
    }
   ],
   "source": [
    "# test function\n",
    "prep_zillow(acquire_zillow()).info()"
   ]
  },
  {
   "cell_type": "code",
   "execution_count": 69,
   "id": "bb0bda84",
   "metadata": {},
   "outputs": [
    {
     "name": "stderr",
     "output_type": "stream",
     "text": [
      "/opt/homebrew/anaconda3/lib/python3.8/site-packages/numpy/lib/arraysetops.py:583: FutureWarning: elementwise comparison failed; returning scalar instead, but in the future will perform elementwise comparison\n",
      "  mask |= (ar1 == a)\n",
      "/opt/homebrew/anaconda3/lib/python3.8/site-packages/pandas/core/generic.py:5494: SettingWithCopyWarning: \n",
      "A value is trying to be set on a copy of a slice from a DataFrame.\n",
      "Try using .loc[row_indexer,col_indexer] = value instead\n",
      "\n",
      "See the caveats in the documentation: https://pandas.pydata.org/pandas-docs/stable/user_guide/indexing.html#returning-a-view-versus-a-copy\n",
      "  self[name] = value\n",
      "/opt/homebrew/anaconda3/lib/python3.8/site-packages/pandas/core/frame.py:4441: SettingWithCopyWarning: \n",
      "A value is trying to be set on a copy of a slice from a DataFrame\n",
      "\n",
      "See the caveats in the documentation: https://pandas.pydata.org/pandas-docs/stable/user_guide/indexing.html#returning-a-view-versus-a-copy\n",
      "  return super().rename(\n"
     ]
    },
    {
     "name": "stdout",
     "output_type": "stream",
     "text": [
      "<class 'pandas.core.frame.DataFrame'>\n",
      "Int64Index: 1854286 entries, 6 to 2152863\n",
      "Data columns (total 7 columns):\n",
      " #   Column     Dtype  \n",
      "---  ------     -----  \n",
      " 0   beds       float64\n",
      " 1   baths      float64\n",
      " 2   sq_ft      float64\n",
      " 3   tax_value  float64\n",
      " 4   yearbuilt  object \n",
      " 5   taxamount  float64\n",
      " 6   fips       object \n",
      "dtypes: float64(5), object(2)\n",
      "memory usage: 113.2+ MB\n"
     ]
    }
   ],
   "source": [
    "# combine acquire and prep functions into single wrangle function\n",
    "def wrangle_zillow():\n",
    "    prep_zillow(acquire_zillow())\n",
    "    return zillow\n",
    "# test function\n",
    "wrangle_zillow().info()"
   ]
  },
  {
   "cell_type": "code",
   "execution_count": null,
   "id": "6ad8a76f",
   "metadata": {},
   "outputs": [],
   "source": []
  }
 ],
 "metadata": {
  "kernelspec": {
   "display_name": "Python 3",
   "language": "python",
   "name": "python3"
  },
  "language_info": {
   "codemirror_mode": {
    "name": "ipython",
    "version": 3
   },
   "file_extension": ".py",
   "mimetype": "text/x-python",
   "name": "python",
   "nbconvert_exporter": "python",
   "pygments_lexer": "ipython3",
   "version": "3.8.8"
  }
 },
 "nbformat": 4,
 "nbformat_minor": 5
}
